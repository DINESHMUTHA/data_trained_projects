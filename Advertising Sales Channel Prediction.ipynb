{
 "cells": [
  {
   "cell_type": "code",
   "execution_count": 29,
   "id": "833a3e8b",
   "metadata": {},
   "outputs": [],
   "source": [
    "import numpy as np\n",
    "import pandas as pd\n",
    "import matplotlib.pyplot as plt\n",
    "import seaborn as sns\n",
    "import seaborn as sn\n",
    "import scipy.stats \n",
    "import sklearn\n",
    "from sklearn.metrics import accuracy_score\n",
    "from sklearn.metrics import confusion_matrix, classification_report\n",
    "from sklearn.model_selection import train_test_split\n",
    "from scipy.stats import zscore\n",
    "from sklearn.model_selection import cross_val_score\n",
    "from sklearn.model_selection import GridSearchCV\n",
    "from sklearn.linear_model import LinearRegression, Ridge, Lasso\n",
    "from sklearn.ensemble import RandomForestRegressor\n",
    "from sklearn.svm import SVR\n",
    "from sklearn.tree import DecisionTreeRegressor\n",
    "from sklearn.metrics import r2_score\n",
    "from sklearn.metrics import mean_squared_error, mean_absolute_error\n",
    "import warnings\n",
    "warnings.filterwarnings('ignore')"
   ]
  },
  {
   "cell_type": "code",
   "execution_count": 3,
   "id": "c2beb7f8",
   "metadata": {},
   "outputs": [
    {
     "data": {
      "text/html": [
       "<div>\n",
       "<style scoped>\n",
       "    .dataframe tbody tr th:only-of-type {\n",
       "        vertical-align: middle;\n",
       "    }\n",
       "\n",
       "    .dataframe tbody tr th {\n",
       "        vertical-align: top;\n",
       "    }\n",
       "\n",
       "    .dataframe thead th {\n",
       "        text-align: right;\n",
       "    }\n",
       "</style>\n",
       "<table border=\"1\" class=\"dataframe\">\n",
       "  <thead>\n",
       "    <tr style=\"text-align: right;\">\n",
       "      <th></th>\n",
       "      <th>Unnamed: 0</th>\n",
       "      <th>TV</th>\n",
       "      <th>radio</th>\n",
       "      <th>newspaper</th>\n",
       "      <th>sales</th>\n",
       "    </tr>\n",
       "  </thead>\n",
       "  <tbody>\n",
       "    <tr>\n",
       "      <th>0</th>\n",
       "      <td>1</td>\n",
       "      <td>230.1</td>\n",
       "      <td>37.8</td>\n",
       "      <td>69.2</td>\n",
       "      <td>22.1</td>\n",
       "    </tr>\n",
       "    <tr>\n",
       "      <th>1</th>\n",
       "      <td>2</td>\n",
       "      <td>44.5</td>\n",
       "      <td>39.3</td>\n",
       "      <td>45.1</td>\n",
       "      <td>10.4</td>\n",
       "    </tr>\n",
       "    <tr>\n",
       "      <th>2</th>\n",
       "      <td>3</td>\n",
       "      <td>17.2</td>\n",
       "      <td>45.9</td>\n",
       "      <td>69.3</td>\n",
       "      <td>9.3</td>\n",
       "    </tr>\n",
       "    <tr>\n",
       "      <th>3</th>\n",
       "      <td>4</td>\n",
       "      <td>151.5</td>\n",
       "      <td>41.3</td>\n",
       "      <td>58.5</td>\n",
       "      <td>18.5</td>\n",
       "    </tr>\n",
       "    <tr>\n",
       "      <th>4</th>\n",
       "      <td>5</td>\n",
       "      <td>180.8</td>\n",
       "      <td>10.8</td>\n",
       "      <td>58.4</td>\n",
       "      <td>12.9</td>\n",
       "    </tr>\n",
       "  </tbody>\n",
       "</table>\n",
       "</div>"
      ],
      "text/plain": [
       "   Unnamed: 0     TV  radio  newspaper  sales\n",
       "0           1  230.1   37.8       69.2   22.1\n",
       "1           2   44.5   39.3       45.1   10.4\n",
       "2           3   17.2   45.9       69.3    9.3\n",
       "3           4  151.5   41.3       58.5   18.5\n",
       "4           5  180.8   10.8       58.4   12.9"
      ]
     },
     "execution_count": 3,
     "metadata": {},
     "output_type": "execute_result"
    }
   ],
   "source": [
    "# loading the dataset\n",
    "\n",
    "df = pd.read_csv('Advertising.csv')\n",
    "df.head()"
   ]
  },
  {
   "cell_type": "code",
   "execution_count": 4,
   "id": "a0e267ec",
   "metadata": {},
   "outputs": [],
   "source": [
    "# drop unwanted columns\n",
    "df=df.drop('Unnamed: 0',axis=1)"
   ]
  },
  {
   "cell_type": "code",
   "execution_count": 5,
   "id": "b0503d5d",
   "metadata": {},
   "outputs": [
    {
     "data": {
      "text/plain": [
       "(200, 4)"
      ]
     },
     "execution_count": 5,
     "metadata": {},
     "output_type": "execute_result"
    }
   ],
   "source": [
    "df.shape"
   ]
  },
  {
   "cell_type": "code",
   "execution_count": 6,
   "id": "f02c2372",
   "metadata": {},
   "outputs": [
    {
     "data": {
      "text/plain": [
       "TV           0\n",
       "radio        0\n",
       "newspaper    0\n",
       "sales        0\n",
       "dtype: int64"
      ]
     },
     "execution_count": 6,
     "metadata": {},
     "output_type": "execute_result"
    }
   ],
   "source": [
    "# checking null values in dataset\n",
    "df.isnull().sum()"
   ]
  },
  {
   "cell_type": "markdown",
   "id": "f2701366",
   "metadata": {},
   "source": [
    "## Exploratory Data Analysis"
   ]
  },
  {
   "cell_type": "code",
   "execution_count": 10,
   "id": "ff8ef8c8",
   "metadata": {},
   "outputs": [
    {
     "data": {
      "image/png": "[encoded data removed]",
      "text/plain": [
       "<Figure size 432x288 with 2 Axes>"
      ]
     },
     "metadata": {
      "needs_background": "light"
     },
     "output_type": "display_data"
    }
   ],
   "source": [
    "sns.heatmap(df.isnull())\n",
    "plt.show()"
   ]
  },
  {
   "cell_type": "code",
   "execution_count": 12,
   "id": "e6af74cb",
   "metadata": {},
   "outputs": [
    {
     "data": {
      "text/html": [
       "<div>\n",
       "<style scoped>\n",
       "    .dataframe tbody tr th:only-of-type {\n",
       "        vertical-align: middle;\n",
       "    }\n",
       "\n",
       "    .dataframe tbody tr th {\n",
       "        vertical-align: top;\n",
       "    }\n",
       "\n",
       "    .dataframe thead th {\n",
       "        text-align: right;\n",
       "    }\n",
       "</style>\n",
       "<table border=\"1\" class=\"dataframe\">\n",
       "  <thead>\n",
       "    <tr style=\"text-align: right;\">\n",
       "      <th></th>\n",
       "      <th>TV</th>\n",
       "      <th>radio</th>\n",
       "      <th>newspaper</th>\n",
       "      <th>sales</th>\n",
       "    </tr>\n",
       "  </thead>\n",
       "  <tbody>\n",
       "    <tr>\n",
       "      <th>count</th>\n",
       "      <td>200.000000</td>\n",
       "      <td>200.000000</td>\n",
       "      <td>200.000000</td>\n",
       "      <td>200.000000</td>\n",
       "    </tr>\n",
       "    <tr>\n",
       "      <th>mean</th>\n",
       "      <td>147.042500</td>\n",
       "      <td>23.264000</td>\n",
       "      <td>30.554000</td>\n",
       "      <td>14.022500</td>\n",
       "    </tr>\n",
       "    <tr>\n",
       "      <th>std</th>\n",
       "      <td>85.854236</td>\n",
       "      <td>14.846809</td>\n",
       "      <td>21.778621</td>\n",
       "      <td>5.217457</td>\n",
       "    </tr>\n",
       "    <tr>\n",
       "      <th>min</th>\n",
       "      <td>0.700000</td>\n",
       "      <td>0.000000</td>\n",
       "      <td>0.300000</td>\n",
       "      <td>1.600000</td>\n",
       "    </tr>\n",
       "    <tr>\n",
       "      <th>25%</th>\n",
       "      <td>74.375000</td>\n",
       "      <td>9.975000</td>\n",
       "      <td>12.750000</td>\n",
       "      <td>10.375000</td>\n",
       "    </tr>\n",
       "    <tr>\n",
       "      <th>50%</th>\n",
       "      <td>149.750000</td>\n",
       "      <td>22.900000</td>\n",
       "      <td>25.750000</td>\n",
       "      <td>12.900000</td>\n",
       "    </tr>\n",
       "    <tr>\n",
       "      <th>75%</th>\n",
       "      <td>218.825000</td>\n",
       "      <td>36.525000</td>\n",
       "      <td>45.100000</td>\n",
       "      <td>17.400000</td>\n",
       "    </tr>\n",
       "    <tr>\n",
       "      <th>max</th>\n",
       "      <td>296.400000</td>\n",
       "      <td>49.600000</td>\n",
       "      <td>114.000000</td>\n",
       "      <td>27.000000</td>\n",
       "    </tr>\n",
       "  </tbody>\n",
       "</table>\n",
       "</div>"
      ],
      "text/plain": [
       "               TV       radio   newspaper       sales\n",
       "count  200.000000  200.000000  200.000000  200.000000\n",
       "mean   147.042500   23.264000   30.554000   14.022500\n",
       "std     85.854236   14.846809   21.778621    5.217457\n",
       "min      0.700000    0.000000    0.300000    1.600000\n",
       "25%     74.375000    9.975000   12.750000   10.375000\n",
       "50%    149.750000   22.900000   25.750000   12.900000\n",
       "75%    218.825000   36.525000   45.100000   17.400000\n",
       "max    296.400000   49.600000  114.000000   27.000000"
      ]
     },
     "execution_count": 12,
     "metadata": {},
     "output_type": "execute_result"
    }
   ],
   "source": [
    "# statistical description of dataset\n",
    "df.describe()"
   ]
  },
  {
   "cell_type": "code",
   "execution_count": 13,
   "id": "e0783d96",
   "metadata": {},
   "outputs": [
    {
     "data": {
      "text/html": [
       "<div>\n",
       "<style scoped>\n",
       "    .dataframe tbody tr th:only-of-type {\n",
       "        vertical-align: middle;\n",
       "    }\n",
       "\n",
       "    .dataframe tbody tr th {\n",
       "        vertical-align: top;\n",
       "    }\n",
       "\n",
       "    .dataframe thead th {\n",
       "        text-align: right;\n",
       "    }\n",
       "</style>\n",
       "<table border=\"1\" class=\"dataframe\">\n",
       "  <thead>\n",
       "    <tr style=\"text-align: right;\">\n",
       "      <th></th>\n",
       "      <th>TV</th>\n",
       "      <th>radio</th>\n",
       "      <th>newspaper</th>\n",
       "      <th>sales</th>\n",
       "    </tr>\n",
       "  </thead>\n",
       "  <tbody>\n",
       "    <tr>\n",
       "      <th>TV</th>\n",
       "      <td>1.000000</td>\n",
       "      <td>0.054809</td>\n",
       "      <td>0.056648</td>\n",
       "      <td>0.782224</td>\n",
       "    </tr>\n",
       "    <tr>\n",
       "      <th>radio</th>\n",
       "      <td>0.054809</td>\n",
       "      <td>1.000000</td>\n",
       "      <td>0.354104</td>\n",
       "      <td>0.576223</td>\n",
       "    </tr>\n",
       "    <tr>\n",
       "      <th>newspaper</th>\n",
       "      <td>0.056648</td>\n",
       "      <td>0.354104</td>\n",
       "      <td>1.000000</td>\n",
       "      <td>0.228299</td>\n",
       "    </tr>\n",
       "    <tr>\n",
       "      <th>sales</th>\n",
       "      <td>0.782224</td>\n",
       "      <td>0.576223</td>\n",
       "      <td>0.228299</td>\n",
       "      <td>1.000000</td>\n",
       "    </tr>\n",
       "  </tbody>\n",
       "</table>\n",
       "</div>"
      ],
      "text/plain": [
       "                 TV     radio  newspaper     sales\n",
       "TV         1.000000  0.054809   0.056648  0.782224\n",
       "radio      0.054809  1.000000   0.354104  0.576223\n",
       "newspaper  0.056648  0.354104   1.000000  0.228299\n",
       "sales      0.782224  0.576223   0.228299  1.000000"
      ]
     },
     "execution_count": 13,
     "metadata": {},
     "output_type": "execute_result"
    }
   ],
   "source": [
    "cor = df.corr()\n",
    "cor"
   ]
  },
  {
   "cell_type": "code",
   "execution_count": 14,
   "id": "207c45ea",
   "metadata": {},
   "outputs": [
    {
     "data": {
      "image/png": "[encoded data removed]",
      "text/plain": [
       "<Figure size 432x288 with 2 Axes>"
      ]
     },
     "metadata": {
      "needs_background": "light"
     },
     "output_type": "display_data"
    }
   ],
   "source": [
    "sns.heatmap(cor, cmap = 'Accent', annot = True, linewidth = 0.1)\n",
    "plt.show()"
   ]
  },
  {
   "cell_type": "code",
   "execution_count": 15,
   "id": "6dadd0f4",
   "metadata": {},
   "outputs": [
    {
     "data": {
      "text/plain": [
       "<matplotlib.collections.PathCollection at 0x23985151580>"
      ]
     },
     "execution_count": 15,
     "metadata": {},
     "output_type": "execute_result"
    },
    {
     "data": {
      "image/png": "[encoded data removed]",
      "text/plain": [
       "<Figure size 432x288 with 1 Axes>"
      ]
     },
     "metadata": {
      "needs_background": "light"
     },
     "output_type": "display_data"
    }
   ],
   "source": [
    "# heatmap shows god corelation between TV & sales,radio & sales whereas lowest corelation between Tv & radio, newspaper & TV.\n",
    "\n",
    "plt.scatter(x = 'sales', y = 'TV', data = df, c = 'g')"
   ]
  },
  {
   "cell_type": "markdown",
   "id": "249a7fbb",
   "metadata": {},
   "source": [
    "# Above scatter plot shows, by 25 TV advertisements sales grew to 300."
   ]
  },
  {
   "cell_type": "code",
   "execution_count": 16,
   "id": "0ad7bd73",
   "metadata": {},
   "outputs": [
    {
     "data": {
      "text/plain": [
       "<matplotlib.collections.PathCollection at 0x239852ba6a0>"
      ]
     },
     "execution_count": 16,
     "metadata": {},
     "output_type": "execute_result"
    },
    {
     "data": {
      "image/png": "[encoded data removed]",
      "text/plain": [
       "<Figure size 432x288 with 1 Axes>"
      ]
     },
     "metadata": {
      "needs_background": "light"
     },
     "output_type": "display_data"
    }
   ],
   "source": [
    "plt.scatter(x = 'sales', y = 'radio', data = df,c='r')"
   ]
  },
  {
   "cell_type": "code",
   "execution_count": 17,
   "id": "346d15ff",
   "metadata": {},
   "outputs": [
    {
     "data": {
      "text/plain": [
       "<matplotlib.collections.PathCollection at 0x2398508f580>"
      ]
     },
     "execution_count": 17,
     "metadata": {},
     "output_type": "execute_result"
    },
    {
     "data": {
      "image/png": "[encoded data removed]",
      "text/plain": [
       "<Figure size 432x288 with 1 Axes>"
      ]
     },
     "metadata": {
      "needs_background": "light"
     },
     "output_type": "display_data"
    }
   ],
   "source": [
    "plt.scatter(x = 'sales', y = 'newspaper', data = df,c='b')"
   ]
  },
  {
   "cell_type": "markdown",
   "id": "b062ad71",
   "metadata": {},
   "source": [
    "# Above scatter shows newspaper ads did not help grow sales substantially.\n",
    "\n",
    "#Thus we can conclude that we have to focus on TV ad for increasing sales."
   ]
  },
  {
   "cell_type": "code",
   "execution_count": 18,
   "id": "a0cdd57e",
   "metadata": {},
   "outputs": [],
   "source": [
    "\n",
    "df['newspaper'] = np.sqrt(df['newspaper'])"
   ]
  },
  {
   "cell_type": "code",
   "execution_count": 20,
   "id": "8f3d675e",
   "metadata": {},
   "outputs": [
    {
     "data": {
      "image/png": "[encoded data removed]",
      "text/plain": [
       "<Figure size 1080x576 with 4 Axes>"
      ]
     },
     "metadata": {
      "needs_background": "light"
     },
     "output_type": "display_data"
    }
   ],
   "source": [
    "plt.figure(figsize=(15,8))\n",
    "for i in enumerate(df):\n",
    "    plt.subplot(2,2,i[0]+1)\n",
    "    sns.distplot(df[i[1]],color='r')"
   ]
  },
  {
   "cell_type": "markdown",
   "id": "1a580feb",
   "metadata": {},
   "source": [
    "# above graphs show there is no more skewness in Newspaper and Sales."
   ]
  },
  {
   "cell_type": "code",
   "execution_count": 19,
   "id": "ca7b6527",
   "metadata": {
    "scrolled": false
   },
   "outputs": [
    {
     "data": {
      "text/plain": [
       "TV          -0.069853\n",
       "radio        0.094175\n",
       "newspaper    0.062388\n",
       "sales        0.407571\n",
       "dtype: float64"
      ]
     },
     "execution_count": 19,
     "metadata": {},
     "output_type": "execute_result"
    }
   ],
   "source": [
    "df.skew()"
   ]
  },
  {
   "cell_type": "code",
   "execution_count": 22,
   "id": "827b8d70",
   "metadata": {},
   "outputs": [],
   "source": [
    "x = df.drop(['newspaper','sales'], axis = 1)\n",
    "y = df['sales']"
   ]
  },
  {
   "cell_type": "code",
   "execution_count": 24,
   "id": "f113bb22",
   "metadata": {},
   "outputs": [
    {
     "name": "stdout",
     "output_type": "stream",
     "text": [
      "(200, 2)\n",
      "(200,)\n"
     ]
    }
   ],
   "source": [
    "print(x.shape)\n",
    "print(y.shape)"
   ]
  },
  {
   "cell_type": "code",
   "execution_count": 25,
   "id": "77a5ab02",
   "metadata": {},
   "outputs": [],
   "source": [
    "from sklearn.preprocessing import MinMaxScaler\n",
    "\n",
    "sc=MinMaxScaler()\n",
    "x=sc.fit_transform(x)"
   ]
  },
  {
   "cell_type": "code",
   "execution_count": 26,
   "id": "627fc97a",
   "metadata": {},
   "outputs": [
    {
     "data": {
      "text/html": [
       "<div>\n",
       "<style scoped>\n",
       "    .dataframe tbody tr th:only-of-type {\n",
       "        vertical-align: middle;\n",
       "    }\n",
       "\n",
       "    .dataframe tbody tr th {\n",
       "        vertical-align: top;\n",
       "    }\n",
       "\n",
       "    .dataframe thead th {\n",
       "        text-align: right;\n",
       "    }\n",
       "</style>\n",
       "<table border=\"1\" class=\"dataframe\">\n",
       "  <thead>\n",
       "    <tr style=\"text-align: right;\">\n",
       "      <th></th>\n",
       "      <th>0</th>\n",
       "      <th>1</th>\n",
       "    </tr>\n",
       "  </thead>\n",
       "  <tbody>\n",
       "    <tr>\n",
       "      <th>count</th>\n",
       "      <td>200.000000</td>\n",
       "      <td>200.000000</td>\n",
       "    </tr>\n",
       "    <tr>\n",
       "      <th>mean</th>\n",
       "      <td>0.494902</td>\n",
       "      <td>0.469032</td>\n",
       "    </tr>\n",
       "    <tr>\n",
       "      <th>std</th>\n",
       "      <td>0.290342</td>\n",
       "      <td>0.299331</td>\n",
       "    </tr>\n",
       "    <tr>\n",
       "      <th>min</th>\n",
       "      <td>0.000000</td>\n",
       "      <td>0.000000</td>\n",
       "    </tr>\n",
       "    <tr>\n",
       "      <th>25%</th>\n",
       "      <td>0.249155</td>\n",
       "      <td>0.201109</td>\n",
       "    </tr>\n",
       "    <tr>\n",
       "      <th>50%</th>\n",
       "      <td>0.504058</td>\n",
       "      <td>0.461694</td>\n",
       "    </tr>\n",
       "    <tr>\n",
       "      <th>75%</th>\n",
       "      <td>0.737656</td>\n",
       "      <td>0.736391</td>\n",
       "    </tr>\n",
       "    <tr>\n",
       "      <th>max</th>\n",
       "      <td>1.000000</td>\n",
       "      <td>1.000000</td>\n",
       "    </tr>\n",
       "  </tbody>\n",
       "</table>\n",
       "</div>"
      ],
      "text/plain": [
       "                0           1\n",
       "count  200.000000  200.000000\n",
       "mean     0.494902    0.469032\n",
       "std      0.290342    0.299331\n",
       "min      0.000000    0.000000\n",
       "25%      0.249155    0.201109\n",
       "50%      0.504058    0.461694\n",
       "75%      0.737656    0.736391\n",
       "max      1.000000    1.000000"
      ]
     },
     "execution_count": 26,
     "metadata": {},
     "output_type": "execute_result"
    }
   ],
   "source": [
    "pd.DataFrame(x).describe()"
   ]
  },
  {
   "cell_type": "markdown",
   "id": "a10effdd",
   "metadata": {},
   "source": [
    "# Modelling"
   ]
  },
  {
   "cell_type": "code",
   "execution_count": 31,
   "id": "df9ba25e",
   "metadata": {},
   "outputs": [],
   "source": [
    "LR = LinearRegression()"
   ]
  },
  {
   "cell_type": "code",
   "execution_count": 32,
   "id": "0b2e1dbe",
   "metadata": {
    "scrolled": true
   },
   "outputs": [
    {
     "name": "stdout",
     "output_type": "stream",
     "text": [
      "At random state 0, The training accuracy is: 0.906590009997456\n",
      "At random state 0, The test accuracy is: 0.8604541663186569\n",
      "\n",
      "\n",
      "At random state 1, The training accuracy is: 0.8958528468776601\n",
      "At random state 1, The test accuracy is: 0.8947344950027067\n",
      "\n",
      "\n",
      "At random state 2, The training accuracy is: 0.9148698946311157\n",
      "At random state 2, The test accuracy is: 0.7629335290913724\n",
      "\n",
      "\n",
      "At random state 3, The training accuracy is: 0.8930073913590098\n",
      "At random state 3, The test accuracy is: 0.914256556902537\n",
      "\n",
      "\n",
      "At random state 4, The training accuracy is: 0.8911657617946168\n",
      "At random state 4, The test accuracy is: 0.908662388749248\n",
      "\n",
      "\n",
      "At random state 5, The training accuracy is: 0.8956551156995032\n",
      "At random state 5, The test accuracy is: 0.8985603563634559\n",
      "\n",
      "\n",
      "At random state 6, The training accuracy is: 0.8914984406883799\n",
      "At random state 6, The test accuracy is: 0.9231606203241168\n",
      "\n",
      "\n",
      "At random state 7, The training accuracy is: 0.8928993103144962\n",
      "At random state 7, The test accuracy is: 0.9095363908842857\n",
      "\n",
      "\n",
      "At random state 8, The training accuracy is: 0.9086015041132243\n",
      "At random state 8, The test accuracy is: 0.8471658086135851\n",
      "\n",
      "\n",
      "At random state 9, The training accuracy is: 0.8897265958178805\n",
      "At random state 9, The test accuracy is: 0.9258743223517101\n",
      "\n",
      "\n",
      "At random state 10, The training accuracy is: 0.9208213397821704\n",
      "At random state 10, The test accuracy is: 0.8354496662944216\n",
      "\n",
      "\n",
      "At random state 11, The training accuracy is: 0.9104028503777378\n",
      "At random state 11, The test accuracy is: 0.8489631946145386\n",
      "\n",
      "\n",
      "At random state 12, The training accuracy is: 0.8911551108610992\n",
      "At random state 12, The test accuracy is: 0.9144076547872573\n",
      "\n",
      "\n",
      "At random state 13, The training accuracy is: 0.8868206875129513\n",
      "At random state 13, The test accuracy is: 0.9313591613710436\n",
      "\n",
      "\n",
      "At random state 14, The training accuracy is: 0.9086245650839918\n",
      "At random state 14, The test accuracy is: 0.8549231685159504\n",
      "\n",
      "\n",
      "At random state 15, The training accuracy is: 0.8935516303319512\n",
      "At random state 15, The test accuracy is: 0.9069663889509987\n",
      "\n",
      "\n",
      "At random state 16, The training accuracy is: 0.8925766392816575\n",
      "At random state 16, The test accuracy is: 0.9189085409560016\n",
      "\n",
      "\n",
      "At random state 17, The training accuracy is: 0.9115936397308523\n",
      "At random state 17, The test accuracy is: 0.826604544432384\n",
      "\n",
      "\n",
      "At random state 18, The training accuracy is: 0.9053228185480983\n",
      "At random state 18, The test accuracy is: 0.8718334287685906\n",
      "\n",
      "\n",
      "At random state 19, The training accuracy is: 0.8932976814497804\n",
      "At random state 19, The test accuracy is: 0.9057638778884525\n",
      "\n",
      "\n",
      "At random state 20, The training accuracy is: 0.8938844209583031\n",
      "At random state 20, The test accuracy is: 0.9037683221469326\n",
      "\n",
      "\n",
      "At random state 21, The training accuracy is: 0.8875852728335466\n",
      "At random state 21, The test accuracy is: 0.9221748864860979\n",
      "\n",
      "\n",
      "At random state 22, The training accuracy is: 0.8899746930948599\n",
      "At random state 22, The test accuracy is: 0.9186100425383739\n",
      "\n",
      "\n",
      "At random state 23, The training accuracy is: 0.8921658382335365\n",
      "At random state 23, The test accuracy is: 0.9102150258352953\n",
      "\n",
      "\n",
      "At random state 24, The training accuracy is: 0.8941389268572582\n",
      "At random state 24, The test accuracy is: 0.9083098863786552\n",
      "\n",
      "\n",
      "At random state 25, The training accuracy is: 0.9003669669645288\n",
      "At random state 25, The test accuracy is: 0.876913660490301\n",
      "\n",
      "\n",
      "At random state 26, The training accuracy is: 0.8998216267053994\n",
      "At random state 26, The test accuracy is: 0.8760430483566874\n",
      "\n",
      "\n",
      "At random state 27, The training accuracy is: 0.894564761568744\n",
      "At random state 27, The test accuracy is: 0.9088215512617351\n",
      "\n",
      "\n",
      "At random state 28, The training accuracy is: 0.8995446652969132\n",
      "At random state 28, The test accuracy is: 0.8859925984921078\n",
      "\n",
      "\n",
      "At random state 29, The training accuracy is: 0.8895343324678262\n",
      "At random state 29, The test accuracy is: 0.9134251752292397\n",
      "\n",
      "\n",
      "At random state 30, The training accuracy is: 0.8932786847830761\n",
      "At random state 30, The test accuracy is: 0.9091751486815922\n",
      "\n",
      "\n",
      "At random state 31, The training accuracy is: 0.8858591915312501\n",
      "At random state 31, The test accuracy is: 0.9290735806472309\n",
      "\n",
      "\n",
      "At random state 32, The training accuracy is: 0.9171517958828699\n",
      "At random state 32, The test accuracy is: 0.7776762771019669\n",
      "\n",
      "\n",
      "At random state 33, The training accuracy is: 0.8962381230338229\n",
      "At random state 33, The test accuracy is: 0.8946083337934851\n",
      "\n",
      "\n",
      "At random state 34, The training accuracy is: 0.897025247043445\n",
      "At random state 34, The test accuracy is: 0.8925212329007031\n",
      "\n",
      "\n",
      "At random state 35, The training accuracy is: 0.9137022607272962\n",
      "At random state 35, The test accuracy is: 0.7998054032958763\n",
      "\n",
      "\n",
      "At random state 36, The training accuracy is: 0.8886762086784664\n",
      "At random state 36, The test accuracy is: 0.9273258514118152\n",
      "\n",
      "\n",
      "At random state 37, The training accuracy is: 0.8995436824337801\n",
      "At random state 37, The test accuracy is: 0.8847942649916867\n",
      "\n",
      "\n",
      "At random state 38, The training accuracy is: 0.897176861822262\n",
      "At random state 38, The test accuracy is: 0.8929081519708878\n",
      "\n",
      "\n",
      "At random state 39, The training accuracy is: 0.8987056272397325\n",
      "At random state 39, The test accuracy is: 0.8818340402027658\n",
      "\n",
      "\n",
      "At random state 40, The training accuracy is: 0.919890324305473\n",
      "At random state 40, The test accuracy is: 0.7990603649019935\n",
      "\n",
      "\n",
      "At random state 41, The training accuracy is: 0.9004626260067572\n",
      "At random state 41, The test accuracy is: 0.8833213230184381\n",
      "\n",
      "\n",
      "At random state 42, The training accuracy is: 0.8955982149747163\n",
      "At random state 42, The test accuracy is: 0.9005833101920355\n",
      "\n",
      "\n",
      "At random state 43, The training accuracy is: 0.8884728077522832\n",
      "At random state 43, The test accuracy is: 0.9285742514931038\n",
      "\n",
      "\n",
      "At random state 44, The training accuracy is: 0.9065466322433288\n",
      "At random state 44, The test accuracy is: 0.8312578733313355\n",
      "\n",
      "\n",
      "At random state 45, The training accuracy is: 0.8955870524394062\n",
      "At random state 45, The test accuracy is: 0.8987960997436335\n",
      "\n",
      "\n",
      "At random state 46, The training accuracy is: 0.9033817970820338\n",
      "At random state 46, The test accuracy is: 0.8533353732674608\n",
      "\n",
      "\n",
      "At random state 47, The training accuracy is: 0.8986084713586596\n",
      "At random state 47, The test accuracy is: 0.8860732324959226\n",
      "\n",
      "\n",
      "At random state 48, The training accuracy is: 0.8903192121972714\n",
      "At random state 48, The test accuracy is: 0.9202697708845702\n",
      "\n",
      "\n",
      "At random state 49, The training accuracy is: 0.9135612304904024\n",
      "At random state 49, The test accuracy is: 0.8252260740376274\n",
      "\n",
      "\n",
      "At random state 50, The training accuracy is: 0.9012060565410375\n",
      "At random state 50, The test accuracy is: 0.8516296176286775\n",
      "\n",
      "\n",
      "At random state 51, The training accuracy is: 0.8935451980376733\n",
      "At random state 51, The test accuracy is: 0.9082343229128703\n",
      "\n",
      "\n",
      "At random state 52, The training accuracy is: 0.9014303227377083\n",
      "At random state 52, The test accuracy is: 0.8828455550035642\n",
      "\n",
      "\n",
      "At random state 53, The training accuracy is: 0.8886902979306663\n",
      "At random state 53, The test accuracy is: 0.9256807945603545\n",
      "\n",
      "\n",
      "At random state 54, The training accuracy is: 0.8918470482360566\n",
      "At random state 54, The test accuracy is: 0.9183642338020946\n",
      "\n",
      "\n",
      "At random state 55, The training accuracy is: 0.8941156795682829\n",
      "At random state 55, The test accuracy is: 0.9066436908158183\n",
      "\n",
      "\n",
      "At random state 56, The training accuracy is: 0.8987175081453561\n",
      "At random state 56, The test accuracy is: 0.889466317927889\n",
      "\n",
      "\n",
      "At random state 57, The training accuracy is: 0.8823833306942153\n",
      "At random state 57, The test accuracy is: 0.9414840542748539\n",
      "\n",
      "\n",
      "At random state 58, The training accuracy is: 0.9127115881244889\n",
      "At random state 58, The test accuracy is: 0.8406441892797129\n",
      "\n",
      "\n",
      "At random state 59, The training accuracy is: 0.8893072693794807\n",
      "At random state 59, The test accuracy is: 0.9250802148227735\n",
      "\n",
      "\n",
      "At random state 60, The training accuracy is: 0.8914557701376107\n",
      "At random state 60, The test accuracy is: 0.9166342793300639\n",
      "\n",
      "\n",
      "At random state 61, The training accuracy is: 0.8993441261987153\n",
      "At random state 61, The test accuracy is: 0.8801067004451025\n",
      "\n",
      "\n",
      "At random state 62, The training accuracy is: 0.9119337220132518\n",
      "At random state 62, The test accuracy is: 0.8418439389573145\n",
      "\n",
      "\n",
      "At random state 63, The training accuracy is: 0.8944707344524561\n",
      "At random state 63, The test accuracy is: 0.9079874623742147\n",
      "\n",
      "\n",
      "At random state 64, The training accuracy is: 0.8977692553439597\n",
      "At random state 64, The test accuracy is: 0.8817808624081915\n",
      "\n",
      "\n",
      "At random state 65, The training accuracy is: 0.8969569676665967\n",
      "At random state 65, The test accuracy is: 0.8941482860789511\n",
      "\n",
      "\n",
      "At random state 66, The training accuracy is: 0.8985317452914918\n",
      "At random state 66, The test accuracy is: 0.8898562764581865\n",
      "\n",
      "\n",
      "At random state 67, The training accuracy is: 0.8993177292534198\n",
      "At random state 67, The test accuracy is: 0.8835921180915238\n",
      "\n",
      "\n",
      "At random state 68, The training accuracy is: 0.8998660151981037\n",
      "At random state 68, The test accuracy is: 0.8716984385205893\n",
      "\n",
      "\n",
      "At random state 69, The training accuracy is: 0.8870047362847734\n",
      "At random state 69, The test accuracy is: 0.9242019523137871\n",
      "\n",
      "\n",
      "At random state 70, The training accuracy is: 0.8859812643288401\n",
      "At random state 70, The test accuracy is: 0.9275905210288184\n",
      "\n",
      "\n",
      "At random state 71, The training accuracy is: 0.9158683291485783\n",
      "At random state 71, The test accuracy is: 0.8278759563794178\n",
      "\n",
      "\n",
      "At random state 72, The training accuracy is: 0.8935415448166952\n",
      "At random state 72, The test accuracy is: 0.9084220969125046\n",
      "\n",
      "\n",
      "At random state 73, The training accuracy is: 0.9077493612848183\n",
      "At random state 73, The test accuracy is: 0.8415479311508481\n",
      "\n",
      "\n",
      "At random state 74, The training accuracy is: 0.8979110048148204\n",
      "At random state 74, The test accuracy is: 0.8807242846603826\n",
      "\n",
      "\n",
      "At random state 75, The training accuracy is: 0.8941453595215858\n",
      "At random state 75, The test accuracy is: 0.908665518119602\n",
      "\n",
      "\n",
      "At random state 76, The training accuracy is: 0.9091287499766433\n",
      "At random state 76, The test accuracy is: 0.7555116399295885\n",
      "\n",
      "\n",
      "At random state 77, The training accuracy is: 0.8859752030907149\n",
      "At random state 77, The test accuracy is: 0.9378509985902777\n",
      "\n",
      "\n",
      "At random state 78, The training accuracy is: 0.8957153331962916\n",
      "At random state 78, The test accuracy is: 0.9026717852798298\n",
      "\n",
      "\n",
      "At random state 79, The training accuracy is: 0.8917192357013568\n",
      "At random state 79, The test accuracy is: 0.904736455245062\n",
      "\n",
      "\n",
      "At random state 80, The training accuracy is: 0.9161649890967616\n",
      "At random state 80, The test accuracy is: 0.8069612151730718\n",
      "\n",
      "\n",
      "At random state 81, The training accuracy is: 0.9033386460359487\n",
      "At random state 81, The test accuracy is: 0.8621899236927317\n",
      "\n",
      "\n",
      "At random state 82, The training accuracy is: 0.9148476507641169\n",
      "At random state 82, The test accuracy is: 0.8064914434306313\n",
      "\n",
      "\n",
      "At random state 83, The training accuracy is: 0.8837451986460145\n",
      "At random state 83, The test accuracy is: 0.9387564731476518\n",
      "\n",
      "\n",
      "At random state 84, The training accuracy is: 0.8947603287967097\n",
      "At random state 84, The test accuracy is: 0.9039147070571136\n",
      "\n",
      "\n",
      "At random state 85, The training accuracy is: 0.9083292621292837\n",
      "At random state 85, The test accuracy is: 0.8460501064389512\n",
      "\n",
      "\n",
      "At random state 86, The training accuracy is: 0.8940549870471213\n",
      "At random state 86, The test accuracy is: 0.9105636857330227\n",
      "\n",
      "\n",
      "At random state 87, The training accuracy is: 0.9116761371376374\n",
      "At random state 87, The test accuracy is: 0.7648619519106632\n",
      "\n",
      "\n",
      "At random state 88, The training accuracy is: 0.9087961178136265\n",
      "At random state 88, The test accuracy is: 0.8453863342188653\n",
      "\n",
      "\n",
      "At random state 89, The training accuracy is: 0.8996373226035996\n",
      "At random state 89, The test accuracy is: 0.880476744671727\n",
      "\n",
      "\n",
      "At random state 90, The training accuracy is: 0.903101620305532\n",
      "At random state 90, The test accuracy is: 0.8515292501130421\n",
      "\n",
      "\n",
      "At random state 91, The training accuracy is: 0.8873646570170686\n",
      "At random state 91, The test accuracy is: 0.9042424905323367\n",
      "\n",
      "\n",
      "At random state 92, The training accuracy is: 0.8791560212812533\n",
      "At random state 92, The test accuracy is: 0.952232878613332\n",
      "\n",
      "\n",
      "At random state 93, The training accuracy is: 0.892769417316429\n",
      "At random state 93, The test accuracy is: 0.9127357998611332\n",
      "\n",
      "\n",
      "At random state 94, The training accuracy is: 0.9080753429764618\n",
      "At random state 94, The test accuracy is: 0.8580335447396212\n",
      "\n",
      "\n",
      "At random state 95, The training accuracy is: 0.8935627424379107\n",
      "At random state 95, The test accuracy is: 0.895326389620284\n",
      "\n",
      "\n",
      "At random state 96, The training accuracy is: 0.9035747240174029\n",
      "At random state 96, The test accuracy is: 0.8599769907931797\n",
      "\n",
      "\n",
      "At random state 97, The training accuracy is: 0.8894300272274118\n",
      "At random state 97, The test accuracy is: 0.9180645040452482\n",
      "\n",
      "\n",
      "At random state 98, The training accuracy is: 0.8819307171717308\n",
      "At random state 98, The test accuracy is: 0.9400210445154401\n",
      "\n",
      "\n",
      "At random state 99, The training accuracy is: 0.8906197253189246\n",
      "At random state 99, The test accuracy is: 0.9202930325720751\n",
      "\n",
      "\n"
     ]
    }
   ],
   "source": [
    "for i in range(0,100):\n",
    "    x_train,x_test,y_train,y_test=train_test_split(x,y,test_size=0.2,random_state=i)\n",
    "    LR.fit(x_train,y_train)\n",
    "    LR_predict_train=LR.predict(x_train)\n",
    "    LR_predict_test=LR.predict(x_test)\n",
    "    print(f'At random state {i}, The training accuracy is: {r2_score(y_train,LR_predict_train)}')\n",
    "    print(f'At random state {i}, The test accuracy is: {r2_score(y_test,LR_predict_test)}')\n",
    "    print('\\n')"
   ]
  },
  {
   "cell_type": "markdown",
   "id": "877519cd",
   "metadata": {},
   "source": [
    "# Random state 10 gives highest accuracy"
   ]
  },
  {
   "cell_type": "code",
   "execution_count": 69,
   "id": "b6141715",
   "metadata": {
    "scrolled": true
   },
   "outputs": [],
   "source": [
    "#splitting the data into 75% training and 25% testing\n",
    "x_train,x_test,y_train,y_test=train_test_split(x, y, test_size = 0.25,random_state = 10)"
   ]
  },
  {
   "cell_type": "code",
   "execution_count": 70,
   "id": "986d166d",
   "metadata": {},
   "outputs": [
    {
     "name": "stdout",
     "output_type": "stream",
     "text": [
      "(150, 2)\n",
      "(50, 2)\n",
      "(150,)\n",
      "(50,)\n"
     ]
    }
   ],
   "source": [
    "print(x_train.shape)\n",
    "print(x_test.shape)\n",
    "print(y_train.shape)\n",
    "print(y_test.shape)"
   ]
  },
  {
   "cell_type": "code",
   "execution_count": 71,
   "id": "c978a883",
   "metadata": {},
   "outputs": [
    {
     "name": "stdout",
     "output_type": "stream",
     "text": [
      "0.9236991141628922\n"
     ]
    }
   ],
   "source": [
    "LR.fit(x_train,y_train)\n",
    "print(LR.score(x_train,y_train))\n",
    "LR_predict=LR.predict(x_test)"
   ]
  },
  {
   "cell_type": "code",
   "execution_count": 72,
   "id": "29750a28",
   "metadata": {},
   "outputs": [
    {
     "name": "stdout",
     "output_type": "stream",
     "text": [
      "MSE: 6.113430712736471\n",
      "MAE: 1.7873411287524383\n",
      "r2_score: 0.7551985152865386\n"
     ]
    }
   ],
   "source": [
    "print('MSE:',mean_squared_error(LR_predict,y_test))\n",
    "print('MAE:',mean_absolute_error(LR_predict,y_test))\n",
    "print('r2_score:',r2_score(LR_predict,y_test))"
   ]
  },
  {
   "cell_type": "markdown",
   "id": "95157f4b",
   "metadata": {},
   "source": [
    "# Ridge"
   ]
  },
  {
   "cell_type": "code",
   "execution_count": 73,
   "id": "0da63356",
   "metadata": {},
   "outputs": [
    {
     "name": "stdout",
     "output_type": "stream",
     "text": [
      "0.9189289094354655\n"
     ]
    }
   ],
   "source": [
    "R=Ridge()\n",
    "R.fit(x_train,y_train)\n",
    "print(R.score(x_train,y_train))\n",
    "R_predict=R.predict(x_test)"
   ]
  },
  {
   "cell_type": "code",
   "execution_count": 74,
   "id": "6ff042ee",
   "metadata": {},
   "outputs": [
    {
     "name": "stdout",
     "output_type": "stream",
     "text": [
      "MSE: 6.701792464519096\n",
      "MAE: 1.929100289128228\n",
      "r2_score: 0.6878767226294777\n"
     ]
    }
   ],
   "source": [
    "print('MSE:',mean_squared_error(R_predict,y_test))\n",
    "print('MAE:',mean_absolute_error(R_predict,y_test))\n",
    "print('r2_score:',r2_score(R_predict,y_test))"
   ]
  },
  {
   "cell_type": "code",
   "execution_count": 75,
   "id": "f99b3b3e",
   "metadata": {},
   "outputs": [],
   "source": [
    "dr=DecisionTreeRegressor()\n",
    "svr=SVR() \n",
    "rf=RandomForestRegressor()"
   ]
  },
  {
   "cell_type": "code",
   "execution_count": 76,
   "id": "0c60a90a",
   "metadata": {},
   "outputs": [],
   "source": [
    "model=[LR, dr, svr, rf]"
   ]
  },
  {
   "cell_type": "code",
   "execution_count": 77,
   "id": "db8e809e",
   "metadata": {},
   "outputs": [
    {
     "name": "stdout",
     "output_type": "stream",
     "text": [
      "r2_score of LinearRegression() is:\n",
      "0.8574007040576865\n",
      "mean_squared_error: 5.350726050111703\n",
      "mean_absolute_error: 5.350726050111703\n",
      "root_mean_squared_error 2.3131636453376365\n",
      "\n",
      "\n",
      "r2_score of DecisionTreeRegressor() is:\n",
      "0.9719770441844593\n",
      "mean_squared_error: 1.0515000000000003\n",
      "mean_absolute_error: 1.0515000000000003\n",
      "root_mean_squared_error 1.0254267404354152\n",
      "\n",
      "\n",
      "r2_score of SVR() is:\n",
      "0.9020432133063875\n",
      "mean_squared_error: 3.6756137320536384\n",
      "mean_absolute_error: 3.6756137320536384\n",
      "root_mean_squared_error 1.9171890183426459\n",
      "\n",
      "\n",
      "r2_score of RandomForestRegressor() is:\n",
      "0.9756173376326445\n",
      "mean_squared_error: 0.9149059666666598\n",
      "mean_absolute_error: 0.9149059666666598\n",
      "root_mean_squared_error 0.956507170211839\n",
      "\n",
      "\n"
     ]
    }
   ],
   "source": [
    "for m in model:\n",
    "    x_train, x_test, y_train, y_test = train_test_split(x, y, test_size = 0.30, random_state = 10)\n",
    "    m.fit(x_train, y_train)\n",
    "    predl = m.predict(x_test)\n",
    "    print('r2_score of',m,'is:')\n",
    "    print(r2_score(y_test, predl))\n",
    "    print('mean_squared_error:',mean_squared_error(y_test, predl))\n",
    "    print('mean_absolute_error:',mean_squared_error(y_test, predl))\n",
    "    print('root_mean_squared_error',np.sqrt(mean_squared_error(y_test, predl)))\n",
    "    print('\\n')"
   ]
  },
  {
   "cell_type": "code",
   "execution_count": 78,
   "id": "e3301bfe",
   "metadata": {},
   "outputs": [
    {
     "name": "stdout",
     "output_type": "stream",
     "text": [
      "0.9989671382044939\n"
     ]
    }
   ],
   "source": [
    "from sklearn.ensemble import GradientBoostingRegressor\n",
    "\n",
    "GBR=GradientBoostingRegressor()\n",
    "GBR.fit(x_train,y_train)\n",
    "print(GBR.score(x_train,y_train))\n",
    "GBR_PRED=GBR.predict(x_test)"
   ]
  },
  {
   "cell_type": "code",
   "execution_count": 79,
   "id": "b44a6c9f",
   "metadata": {},
   "outputs": [
    {
     "name": "stdout",
     "output_type": "stream",
     "text": [
      "MSE: 0.8268487234716663\n",
      "MAE: 0.5966138559771292\n",
      "r2_score: 0.975186340000792\n"
     ]
    }
   ],
   "source": [
    "print('MSE:',mean_squared_error(GBR_PRED,y_test))\n",
    "print('MAE:',mean_absolute_error(GBR_PRED,y_test))\n",
    "print('r2_score:',r2_score(GBR_PRED,y_test))"
   ]
  },
  {
   "cell_type": "markdown",
   "id": "e42ff604",
   "metadata": {},
   "source": [
    "# cross validation"
   ]
  },
  {
   "cell_type": "code",
   "execution_count": 80,
   "id": "e4f1bd06",
   "metadata": {},
   "outputs": [
    {
     "name": "stdout",
     "output_type": "stream",
     "text": [
      "LR    : 3.013919, 1.784129\n",
      "R    : 3.084685, 1.945594\n",
      "svr    : 3.665091, 2.710343\n",
      "svr_p    : 3.450104, 1.096982\n",
      "svr_r    : 1.110718, 0.961292\n",
      "RF    : 0.468468, 0.213004\n",
      "DTR    : 0.911000, 0.485048\n",
      "GBR    : 0.481872, 0.282489\n"
     ]
    }
   ],
   "source": [
    "np.random.seed(10)\n",
    "def rmse_cv(model, x,y):\n",
    "    rmse =- (cross_val_score(model, x,y, scoring='neg_mean_squared_error', cv=10))\n",
    "    return(rmse)\n",
    "\n",
    "\n",
    "models = [LinearRegression(),\n",
    "             Ridge(),\n",
    "             SVR(kernel='linear'),\n",
    "             SVR(kernel='poly'),\n",
    "             SVR(kernel='rbf'),\n",
    "             RandomForestRegressor(),\n",
    "             DecisionTreeRegressor(),\n",
    "             GradientBoostingRegressor(),]\n",
    "            \n",
    "\n",
    "\n",
    "names = ['LR','R','svr','svr_p','svr_r','RF','DTR','GBR']\n",
    "\n",
    "for model,name in zip(models,names):\n",
    "    score = rmse_cv(model,x,y)\n",
    "    print(\"{}    : {:.6f}, {:4f}\".format(name,score.mean(),score.std()))"
   ]
  },
  {
   "cell_type": "markdown",
   "id": "89210ec4",
   "metadata": {},
   "source": [
    "# Random forest regressor and Gradient boosting regressor are selected for GridCV search"
   ]
  },
  {
   "cell_type": "code",
   "execution_count": 48,
   "id": "55ac5a8a",
   "metadata": {},
   "outputs": [],
   "source": [
    "RF = RandomForestRegressor()\n",
    "param = {\n",
    "     'criterion':['mse','mae'],\n",
    "    'n_estimators':[100, 200],\n",
    "    'max_depth':[1],\n",
    "   'max_features' : [\"sqrt\", \"log2\",],\n",
    "}"
   ]
  },
  {
   "cell_type": "code",
   "execution_count": 49,
   "id": "80097099",
   "metadata": {},
   "outputs": [],
   "source": [
    "RF_grid = GridSearchCV(RandomForestRegressor(), param, cv = 10, scoring = 'accuracy', n_jobs = -1, verbose = 2)"
   ]
  },
  {
   "cell_type": "code",
   "execution_count": 50,
   "id": "f7a5eb1a",
   "metadata": {},
   "outputs": [
    {
     "name": "stdout",
     "output_type": "stream",
     "text": [
      "Fitting 10 folds for each of 8 candidates, totalling 80 fits\n"
     ]
    }
   ],
   "source": [
    "RF_grid.fit(x_train,y_train)\n",
    "RF_grid_pred=RF_grid.best_estimator_.predict(x_test)"
   ]
  },
  {
   "cell_type": "code",
   "execution_count": 51,
   "id": "64ed5697",
   "metadata": {},
   "outputs": [
    {
     "data": {
      "text/plain": [
       "{'criterion': 'mse',\n",
       " 'max_depth': 1,\n",
       " 'max_features': 'sqrt',\n",
       " 'n_estimators': 100}"
      ]
     },
     "execution_count": 51,
     "metadata": {},
     "output_type": "execute_result"
    }
   ],
   "source": [
    "RF_grid.best_params_"
   ]
  },
  {
   "cell_type": "code",
   "execution_count": 52,
   "id": "04eafeea",
   "metadata": {},
   "outputs": [
    {
     "name": "stdout",
     "output_type": "stream",
     "text": [
      "MSE: 16.327049095328576\n",
      "MAE: 3.300265796403577\n",
      "r2_score: -2.938216977030245\n"
     ]
    }
   ],
   "source": [
    "print('MSE:',mean_squared_error(RF_grid_pred,y_test))\n",
    "print('MAE:',mean_absolute_error(RF_grid_pred,y_test))\n",
    "print('r2_score:',r2_score(RF_grid_pred,y_test))"
   ]
  },
  {
   "cell_type": "code",
   "execution_count": 53,
   "id": "8bd50a37",
   "metadata": {},
   "outputs": [
    {
     "data": {
      "text/plain": [
       "<AxesSubplot:xlabel='sales', ylabel='Density'>"
      ]
     },
     "execution_count": 53,
     "metadata": {},
     "output_type": "execute_result"
    },
    {
     "data": {
      "image/png": "[encoded data removed]",
      "text/plain": [
       "<Figure size 432x288 with 1 Axes>"
      ]
     },
     "metadata": {
      "needs_background": "light"
     },
     "output_type": "display_data"
    }
   ],
   "source": [
    "sns.distplot(RF_grid_pred-y_test)"
   ]
  },
  {
   "cell_type": "code",
   "execution_count": 54,
   "id": "cb5665af",
   "metadata": {},
   "outputs": [
    {
     "data": {
      "text/plain": [
       "[<matplotlib.lines.Line2D at 0x23984e0edf0>]"
      ]
     },
     "execution_count": 54,
     "metadata": {},
     "output_type": "execute_result"
    },
    {
     "data": {
      "image/png": "[encoded data removed]",
      "text/plain": [
       "<Figure size 432x288 with 1 Axes>"
      ]
     },
     "metadata": {
      "needs_background": "light"
     },
     "output_type": "display_data"
    }
   ],
   "source": [
    "plt.scatter(RF_grid_pred,y_test)\n",
    "plt.plot(y_test,y_test,linewidth=2,color='Red')"
   ]
  },
  {
   "cell_type": "markdown",
   "id": "0dd833ad",
   "metadata": {},
   "source": [
    "# Gradient Boosting Regressor"
   ]
  },
  {
   "cell_type": "code",
   "execution_count": 59,
   "id": "9e7366e1",
   "metadata": {},
   "outputs": [],
   "source": [
    "GF=GradientBoostingRegressor()\n",
    "param={\n",
    "     'criterion':['mse','mae'],\n",
    "     'n_estimators':[100, 200],\n",
    "    }"
   ]
  },
  {
   "cell_type": "code",
   "execution_count": 60,
   "id": "fb1a8691",
   "metadata": {},
   "outputs": [],
   "source": [
    "GF_grid=GridSearchCV(RandomForestRegressor(),param,cv=10,scoring='accuracy',n_jobs=-1,verbose=2)"
   ]
  },
  {
   "cell_type": "code",
   "execution_count": 61,
   "id": "a7a1ddae",
   "metadata": {},
   "outputs": [
    {
     "name": "stdout",
     "output_type": "stream",
     "text": [
      "Fitting 10 folds for each of 4 candidates, totalling 40 fits\n"
     ]
    }
   ],
   "source": [
    "GF_grid.fit(x_train,y_train)\n",
    "GF_grid_pred=GF_grid.best_estimator_.predict(x_test)"
   ]
  },
  {
   "cell_type": "code",
   "execution_count": 62,
   "id": "f50d67c8",
   "metadata": {},
   "outputs": [
    {
     "data": {
      "text/plain": [
       "{'criterion': 'mse',\n",
       " 'max_depth': 1,\n",
       " 'max_features': 'sqrt',\n",
       " 'n_estimators': 100}"
      ]
     },
     "execution_count": 62,
     "metadata": {},
     "output_type": "execute_result"
    }
   ],
   "source": [
    "RF_grid.best_params_"
   ]
  },
  {
   "cell_type": "code",
   "execution_count": 63,
   "id": "a4352cb4",
   "metadata": {},
   "outputs": [
    {
     "name": "stdout",
     "output_type": "stream",
     "text": [
      "MSE: 0.6280317166666666\n",
      "MAE: 0.6230166666666661\n",
      "r2_score: 0.9767624244935648\n"
     ]
    }
   ],
   "source": [
    "print('MSE:',mean_squared_error(GF_grid_pred,y_test))\n",
    "print('MAE:',mean_absolute_error(GF_grid_pred,y_test))\n",
    "print('r2_score:',r2_score(GF_grid_pred,y_test))"
   ]
  },
  {
   "cell_type": "code",
   "execution_count": 64,
   "id": "f82266ce",
   "metadata": {},
   "outputs": [
    {
     "data": {
      "text/plain": [
       "<AxesSubplot:xlabel='sales', ylabel='Density'>"
      ]
     },
     "execution_count": 64,
     "metadata": {},
     "output_type": "execute_result"
    },
    {
     "data": {
      "image/png": "[encoded data removed]",
      "text/plain": [
       "<Figure size 432x288 with 1 Axes>"
      ]
     },
     "metadata": {
      "needs_background": "light"
     },
     "output_type": "display_data"
    }
   ],
   "source": [
    "sns.distplot(GF_grid_pred-y_test)"
   ]
  },
  {
   "cell_type": "code",
   "execution_count": 65,
   "id": "e75b97b5",
   "metadata": {},
   "outputs": [
    {
     "data": {
      "text/plain": [
       "[<matplotlib.lines.Line2D at 0x2398513cfd0>]"
      ]
     },
     "execution_count": 65,
     "metadata": {},
     "output_type": "execute_result"
    },
    {
     "data": {
      "image/png": "[encoded data removed]",
      "text/plain": [
       "<Figure size 432x288 with 1 Axes>"
      ]
     },
     "metadata": {
      "needs_background": "light"
     },
     "output_type": "display_data"
    }
   ],
   "source": [
    "plt.scatter(GF_grid_pred,y_test)\n",
    "plt.plot(y_test,y_test,linewidth=2,color='Orange')"
   ]
  },
  {
   "cell_type": "markdown",
   "id": "f71ef887",
   "metadata": {},
   "source": [
    "# above plot shows better distribution hence select this model and save it."
   ]
  },
  {
   "cell_type": "code",
   "execution_count": 94,
   "id": "820ba1a1",
   "metadata": {},
   "outputs": [
    {
     "data": {
      "text/plain": [
       "['Advertising Sales Channel Prediction_Project.obj']"
      ]
     },
     "execution_count": 94,
     "metadata": {},
     "output_type": "execute_result"
    }
   ],
   "source": [
    "import joblib\n",
    "\n",
    "joblib.dump(RF_grid.best_estimator_,'Advertising Sales Channel Prediction_Project.obj')"
   ]
  }
 ],
 "metadata": {
  "kernelspec": {
   "display_name": "Python 3 (ipykernel)",
   "language": "python",
   "name": "python3"
  },
  "language_info": {
   "codemirror_mode": {
    "name": "ipython",
    "version": 3
   },
   "file_extension": ".py",
   "mimetype": "text/x-python",
   "name": "python",
   "nbconvert_exporter": "python",
   "pygments_lexer": "ipython3",
   "version": "3.9.7"
  }
 },
 "nbformat": 4,
 "nbformat_minor": 5
}
